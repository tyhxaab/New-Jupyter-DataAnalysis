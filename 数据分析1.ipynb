{
 "cells": [
  {
   "cell_type": "markdown",
   "id": "b555a8cd-56f7-4d7a-a823-cf24a6b84dc3",
   "metadata": {},
   "source": [
    "## 读取数据"
   ]
  },
  {
   "cell_type": "code",
   "execution_count": 1,
   "id": "5572e933-36e9-4f19-9bbc-539008311dec",
   "metadata": {},
   "outputs": [],
   "source": [
    "import pandas as pd"
   ]
  },
  {
   "cell_type": "code",
   "execution_count": 2,
   "id": "4c4427c4-f3da-4203-b14a-d953716b082e",
   "metadata": {},
   "outputs": [],
   "source": [
    "original_data = pd.read_csv(\"test.csv\")"
   ]
  },
  {
   "cell_type": "code",
   "execution_count": 3,
   "id": "fdac3e42-48bc-472e-adbe-f59b75e95b5d",
   "metadata": {},
   "outputs": [
    {
     "data": {
      "text/html": [
       "<div>\n",
       "<style scoped>\n",
       "    .dataframe tbody tr th:only-of-type {\n",
       "        vertical-align: middle;\n",
       "    }\n",
       "\n",
       "    .dataframe tbody tr th {\n",
       "        vertical-align: top;\n",
       "    }\n",
       "\n",
       "    .dataframe thead th {\n",
       "        text-align: right;\n",
       "    }\n",
       "</style>\n",
       "<table border=\"1\" class=\"dataframe\">\n",
       "  <thead>\n",
       "    <tr style=\"text-align: right;\">\n",
       "      <th></th>\n",
       "      <th>Item_Identifier</th>\n",
       "      <th>Item_Weight</th>\n",
       "      <th>Item_Fat_Content</th>\n",
       "      <th>Item_Visibility</th>\n",
       "      <th>Item_Type</th>\n",
       "      <th>Item_MRP</th>\n",
       "    </tr>\n",
       "  </thead>\n",
       "  <tbody>\n",
       "    <tr>\n",
       "      <th>0</th>\n",
       "      <td>FDW58</td>\n",
       "      <td>20.750</td>\n",
       "      <td>Low Fat</td>\n",
       "      <td>0.007565</td>\n",
       "      <td>Snack Foods</td>\n",
       "      <td>107.8622</td>\n",
       "    </tr>\n",
       "    <tr>\n",
       "      <th>1</th>\n",
       "      <td>FDW14</td>\n",
       "      <td>8.300</td>\n",
       "      <td>reg</td>\n",
       "      <td>0.038428</td>\n",
       "      <td>Dairy</td>\n",
       "      <td>87.3198</td>\n",
       "    </tr>\n",
       "    <tr>\n",
       "      <th>2</th>\n",
       "      <td>NCN55</td>\n",
       "      <td>14.600</td>\n",
       "      <td>Low Fat</td>\n",
       "      <td>0.099575</td>\n",
       "      <td>Others</td>\n",
       "      <td>241.7538</td>\n",
       "    </tr>\n",
       "    <tr>\n",
       "      <th>3</th>\n",
       "      <td>FDQ58</td>\n",
       "      <td>7.315</td>\n",
       "      <td>Low Fat</td>\n",
       "      <td>0.015388</td>\n",
       "      <td>Snack Foods</td>\n",
       "      <td>155.0340</td>\n",
       "    </tr>\n",
       "    <tr>\n",
       "      <th>4</th>\n",
       "      <td>FDY38</td>\n",
       "      <td>NaN</td>\n",
       "      <td>Regular</td>\n",
       "      <td>0.118599</td>\n",
       "      <td>Dairy</td>\n",
       "      <td>234.2300</td>\n",
       "    </tr>\n",
       "  </tbody>\n",
       "</table>\n",
       "</div>"
      ],
      "text/plain": [
       "  Item_Identifier  Item_Weight Item_Fat_Content  Item_Visibility    Item_Type  \\\n",
       "0           FDW58       20.750          Low Fat         0.007565  Snack Foods   \n",
       "1           FDW14        8.300              reg         0.038428        Dairy   \n",
       "2           NCN55       14.600          Low Fat         0.099575       Others   \n",
       "3           FDQ58        7.315          Low Fat         0.015388  Snack Foods   \n",
       "4           FDY38          NaN          Regular         0.118599        Dairy   \n",
       "\n",
       "   Item_MRP  \n",
       "0  107.8622  \n",
       "1   87.3198  \n",
       "2  241.7538  \n",
       "3  155.0340  \n",
       "4  234.2300  "
      ]
     },
     "execution_count": 3,
     "metadata": {},
     "output_type": "execute_result"
    }
   ],
   "source": [
    "original_data.head()"
   ]
  },
  {
   "cell_type": "markdown",
   "id": "47d2de30-4bf0-4ed4-a796-37cf5d3d3359",
   "metadata": {},
   "source": [
    "## 评估数据"
   ]
  },
  {
   "cell_type": "markdown",
   "id": "7db8e86a-cad7-4d70-aa58-6297d7df588a",
   "metadata": {},
   "source": [
    "### 评估数据整齐度"
   ]
  },
  {
   "cell_type": "code",
   "execution_count": 4,
   "id": "9104669c-5daf-4c22-a193-209971cbf1f1",
   "metadata": {},
   "outputs": [
    {
     "data": {
      "text/html": [
       "<div>\n",
       "<style scoped>\n",
       "    .dataframe tbody tr th:only-of-type {\n",
       "        vertical-align: middle;\n",
       "    }\n",
       "\n",
       "    .dataframe tbody tr th {\n",
       "        vertical-align: top;\n",
       "    }\n",
       "\n",
       "    .dataframe thead th {\n",
       "        text-align: right;\n",
       "    }\n",
       "</style>\n",
       "<table border=\"1\" class=\"dataframe\">\n",
       "  <thead>\n",
       "    <tr style=\"text-align: right;\">\n",
       "      <th></th>\n",
       "      <th>Item_Identifier</th>\n",
       "      <th>Item_Weight</th>\n",
       "      <th>Item_Fat_Content</th>\n",
       "      <th>Item_Visibility</th>\n",
       "      <th>Item_Type</th>\n",
       "      <th>Item_MRP</th>\n",
       "    </tr>\n",
       "  </thead>\n",
       "  <tbody>\n",
       "    <tr>\n",
       "      <th>72</th>\n",
       "      <td>FDZ14</td>\n",
       "      <td>7.710</td>\n",
       "      <td>Regular</td>\n",
       "      <td>0.047783</td>\n",
       "      <td>Dairy</td>\n",
       "      <td>122.3756</td>\n",
       "    </tr>\n",
       "    <tr>\n",
       "      <th>29</th>\n",
       "      <td>FDE21</td>\n",
       "      <td>12.800</td>\n",
       "      <td>LF</td>\n",
       "      <td>0.022940</td>\n",
       "      <td>Fruits and Vegetables</td>\n",
       "      <td>116.5492</td>\n",
       "    </tr>\n",
       "    <tr>\n",
       "      <th>51</th>\n",
       "      <td>FDM03</td>\n",
       "      <td>12.650</td>\n",
       "      <td>Low Fat</td>\n",
       "      <td>0.122928</td>\n",
       "      <td>Meat</td>\n",
       "      <td>106.6938</td>\n",
       "    </tr>\n",
       "    <tr>\n",
       "      <th>77</th>\n",
       "      <td>FDB53</td>\n",
       "      <td>13.350</td>\n",
       "      <td>Low Fat</td>\n",
       "      <td>0.139452</td>\n",
       "      <td>Frozen Foods</td>\n",
       "      <td>148.6392</td>\n",
       "    </tr>\n",
       "    <tr>\n",
       "      <th>19</th>\n",
       "      <td>FDA46</td>\n",
       "      <td>13.600</td>\n",
       "      <td>Low Fat</td>\n",
       "      <td>0.196898</td>\n",
       "      <td>Snack Foods</td>\n",
       "      <td>193.7136</td>\n",
       "    </tr>\n",
       "    <tr>\n",
       "      <th>44</th>\n",
       "      <td>FDP23</td>\n",
       "      <td>6.710</td>\n",
       "      <td>Low Fat</td>\n",
       "      <td>0.059565</td>\n",
       "      <td>Breads</td>\n",
       "      <td>217.2166</td>\n",
       "    </tr>\n",
       "    <tr>\n",
       "      <th>53</th>\n",
       "      <td>FDJ20</td>\n",
       "      <td>20.700</td>\n",
       "      <td>Regular</td>\n",
       "      <td>0.100742</td>\n",
       "      <td>Fruits and Vegetables</td>\n",
       "      <td>122.3388</td>\n",
       "    </tr>\n",
       "    <tr>\n",
       "      <th>60</th>\n",
       "      <td>FDW12</td>\n",
       "      <td>8.315</td>\n",
       "      <td>Regular</td>\n",
       "      <td>0.035565</td>\n",
       "      <td>Baking Goods</td>\n",
       "      <td>144.8444</td>\n",
       "    </tr>\n",
       "    <tr>\n",
       "      <th>31</th>\n",
       "      <td>FDX51</td>\n",
       "      <td>9.500</td>\n",
       "      <td>Regular</td>\n",
       "      <td>0.022149</td>\n",
       "      <td>Meat</td>\n",
       "      <td>194.9452</td>\n",
       "    </tr>\n",
       "    <tr>\n",
       "      <th>50</th>\n",
       "      <td>DRH11</td>\n",
       "      <td>5.980</td>\n",
       "      <td>Low Fat</td>\n",
       "      <td>0.075558</td>\n",
       "      <td>Hard Drinks</td>\n",
       "      <td>57.0614</td>\n",
       "    </tr>\n",
       "  </tbody>\n",
       "</table>\n",
       "</div>"
      ],
      "text/plain": [
       "   Item_Identifier  Item_Weight Item_Fat_Content  Item_Visibility  \\\n",
       "72           FDZ14        7.710          Regular         0.047783   \n",
       "29           FDE21       12.800               LF         0.022940   \n",
       "51           FDM03       12.650          Low Fat         0.122928   \n",
       "77           FDB53       13.350          Low Fat         0.139452   \n",
       "19           FDA46       13.600          Low Fat         0.196898   \n",
       "44           FDP23        6.710          Low Fat         0.059565   \n",
       "53           FDJ20       20.700          Regular         0.100742   \n",
       "60           FDW12        8.315          Regular         0.035565   \n",
       "31           FDX51        9.500          Regular         0.022149   \n",
       "50           DRH11        5.980          Low Fat         0.075558   \n",
       "\n",
       "                Item_Type  Item_MRP  \n",
       "72                  Dairy  122.3756  \n",
       "29  Fruits and Vegetables  116.5492  \n",
       "51                   Meat  106.6938  \n",
       "77           Frozen Foods  148.6392  \n",
       "19            Snack Foods  193.7136  \n",
       "44                 Breads  217.2166  \n",
       "53  Fruits and Vegetables  122.3388  \n",
       "60           Baking Goods  144.8444  \n",
       "31                   Meat  194.9452  \n",
       "50            Hard Drinks   57.0614  "
      ]
     },
     "execution_count": 4,
     "metadata": {},
     "output_type": "execute_result"
    }
   ],
   "source": [
    "original_data.sample(10)"
   ]
  },
  {
   "cell_type": "markdown",
   "id": "703f4be5-9b08-40cc-bba1-b6e65fddfb7f",
   "metadata": {},
   "source": [
    "#### 无结构性问题"
   ]
  },
  {
   "cell_type": "markdown",
   "id": "1c19d92d-aaf3-4091-aa7d-69a8220d43c6",
   "metadata": {},
   "source": [
    "## 数据干净程度"
   ]
  },
  {
   "cell_type": "code",
   "execution_count": 5,
   "id": "576afe9b-75f3-496f-b3ba-9bbd94fcef20",
   "metadata": {},
   "outputs": [
    {
     "name": "stdout",
     "output_type": "stream",
     "text": [
      "<class 'pandas.core.frame.DataFrame'>\n",
      "RangeIndex: 80 entries, 0 to 79\n",
      "Data columns (total 6 columns):\n",
      " #   Column            Non-Null Count  Dtype  \n",
      "---  ------            --------------  -----  \n",
      " 0   Item_Identifier   80 non-null     object \n",
      " 1   Item_Weight       63 non-null     float64\n",
      " 2   Item_Fat_Content  80 non-null     object \n",
      " 3   Item_Visibility   80 non-null     float64\n",
      " 4   Item_Type         80 non-null     object \n",
      " 5   Item_MRP          80 non-null     float64\n",
      "dtypes: float64(3), object(3)\n",
      "memory usage: 3.9+ KB\n"
     ]
    }
   ],
   "source": [
    "original_data.info()"
   ]
  },
  {
   "cell_type": "markdown",
   "id": "e83d5072-e64b-4245-834f-c748d2d4b51e",
   "metadata": {},
   "source": [
    "#### 评估缺失数据"
   ]
  },
  {
   "cell_type": "code",
   "execution_count": 6,
   "id": "1e257f8f-df0b-4489-b957-cd36c2e6716b",
   "metadata": {},
   "outputs": [
    {
     "data": {
      "text/html": [
       "<div>\n",
       "<style scoped>\n",
       "    .dataframe tbody tr th:only-of-type {\n",
       "        vertical-align: middle;\n",
       "    }\n",
       "\n",
       "    .dataframe tbody tr th {\n",
       "        vertical-align: top;\n",
       "    }\n",
       "\n",
       "    .dataframe thead th {\n",
       "        text-align: right;\n",
       "    }\n",
       "</style>\n",
       "<table border=\"1\" class=\"dataframe\">\n",
       "  <thead>\n",
       "    <tr style=\"text-align: right;\">\n",
       "      <th></th>\n",
       "      <th>Item_Identifier</th>\n",
       "      <th>Item_Weight</th>\n",
       "      <th>Item_Fat_Content</th>\n",
       "      <th>Item_Visibility</th>\n",
       "      <th>Item_Type</th>\n",
       "      <th>Item_MRP</th>\n",
       "    </tr>\n",
       "  </thead>\n",
       "  <tbody>\n",
       "    <tr>\n",
       "      <th>4</th>\n",
       "      <td>FDY38</td>\n",
       "      <td>NaN</td>\n",
       "      <td>Regular</td>\n",
       "      <td>0.118599</td>\n",
       "      <td>Dairy</td>\n",
       "      <td>234.2300</td>\n",
       "    </tr>\n",
       "    <tr>\n",
       "      <th>7</th>\n",
       "      <td>FDC48</td>\n",
       "      <td>NaN</td>\n",
       "      <td>Low Fat</td>\n",
       "      <td>0.015782</td>\n",
       "      <td>Baking Goods</td>\n",
       "      <td>81.0592</td>\n",
       "    </tr>\n",
       "    <tr>\n",
       "      <th>12</th>\n",
       "      <td>NCC54</td>\n",
       "      <td>NaN</td>\n",
       "      <td>Low Fat</td>\n",
       "      <td>0.171079</td>\n",
       "      <td>Health and Hygiene</td>\n",
       "      <td>240.4196</td>\n",
       "    </tr>\n",
       "    <tr>\n",
       "      <th>18</th>\n",
       "      <td>NCM42</td>\n",
       "      <td>NaN</td>\n",
       "      <td>Low Fat</td>\n",
       "      <td>0.028184</td>\n",
       "      <td>Household</td>\n",
       "      <td>109.6912</td>\n",
       "    </tr>\n",
       "    <tr>\n",
       "      <th>23</th>\n",
       "      <td>NCL19</td>\n",
       "      <td>NaN</td>\n",
       "      <td>Low Fat</td>\n",
       "      <td>0.027447</td>\n",
       "      <td>Others</td>\n",
       "      <td>142.3470</td>\n",
       "    </tr>\n",
       "    <tr>\n",
       "      <th>30</th>\n",
       "      <td>NCR42</td>\n",
       "      <td>NaN</td>\n",
       "      <td>Low Fat</td>\n",
       "      <td>0.067377</td>\n",
       "      <td>Household</td>\n",
       "      <td>32.0900</td>\n",
       "    </tr>\n",
       "    <tr>\n",
       "      <th>33</th>\n",
       "      <td>FDU31</td>\n",
       "      <td>NaN</td>\n",
       "      <td>Regular</td>\n",
       "      <td>0.024870</td>\n",
       "      <td>Fruits and Vegetables</td>\n",
       "      <td>217.7508</td>\n",
       "    </tr>\n",
       "    <tr>\n",
       "      <th>35</th>\n",
       "      <td>FDR03</td>\n",
       "      <td>NaN</td>\n",
       "      <td>Regular</td>\n",
       "      <td>0.008694</td>\n",
       "      <td>Meat</td>\n",
       "      <td>205.0980</td>\n",
       "    </tr>\n",
       "    <tr>\n",
       "      <th>36</th>\n",
       "      <td>FDS49</td>\n",
       "      <td>NaN</td>\n",
       "      <td>Low Fat</td>\n",
       "      <td>0.078961</td>\n",
       "      <td>Canned</td>\n",
       "      <td>80.3644</td>\n",
       "    </tr>\n",
       "    <tr>\n",
       "      <th>39</th>\n",
       "      <td>NCD43</td>\n",
       "      <td>NaN</td>\n",
       "      <td>Low Fat</td>\n",
       "      <td>0.015942</td>\n",
       "      <td>Household</td>\n",
       "      <td>103.3964</td>\n",
       "    </tr>\n",
       "    <tr>\n",
       "      <th>54</th>\n",
       "      <td>FDV44</td>\n",
       "      <td>NaN</td>\n",
       "      <td>Regular</td>\n",
       "      <td>0.039651</td>\n",
       "      <td>Fruits and Vegetables</td>\n",
       "      <td>188.7188</td>\n",
       "    </tr>\n",
       "    <tr>\n",
       "      <th>58</th>\n",
       "      <td>FDL58</td>\n",
       "      <td>NaN</td>\n",
       "      <td>Regular</td>\n",
       "      <td>0.129825</td>\n",
       "      <td>Snack Foods</td>\n",
       "      <td>263.2568</td>\n",
       "    </tr>\n",
       "    <tr>\n",
       "      <th>62</th>\n",
       "      <td>NCY42</td>\n",
       "      <td>NaN</td>\n",
       "      <td>Low Fat</td>\n",
       "      <td>0.015089</td>\n",
       "      <td>Household</td>\n",
       "      <td>141.3470</td>\n",
       "    </tr>\n",
       "    <tr>\n",
       "      <th>65</th>\n",
       "      <td>FDB35</td>\n",
       "      <td>NaN</td>\n",
       "      <td>Regular</td>\n",
       "      <td>0.064306</td>\n",
       "      <td>Starchy Foods</td>\n",
       "      <td>90.3804</td>\n",
       "    </tr>\n",
       "    <tr>\n",
       "      <th>71</th>\n",
       "      <td>FDC37</td>\n",
       "      <td>NaN</td>\n",
       "      <td>Low Fat</td>\n",
       "      <td>0.032714</td>\n",
       "      <td>Baking Goods</td>\n",
       "      <td>108.1938</td>\n",
       "    </tr>\n",
       "    <tr>\n",
       "      <th>76</th>\n",
       "      <td>FDV21</td>\n",
       "      <td>NaN</td>\n",
       "      <td>Low Fat</td>\n",
       "      <td>0.299544</td>\n",
       "      <td>Snack Foods</td>\n",
       "      <td>124.8704</td>\n",
       "    </tr>\n",
       "    <tr>\n",
       "      <th>78</th>\n",
       "      <td>DRP47</td>\n",
       "      <td>NaN</td>\n",
       "      <td>Low Fat</td>\n",
       "      <td>0.246178</td>\n",
       "      <td>Hard Drinks</td>\n",
       "      <td>252.4382</td>\n",
       "    </tr>\n",
       "  </tbody>\n",
       "</table>\n",
       "</div>"
      ],
      "text/plain": [
       "   Item_Identifier  Item_Weight Item_Fat_Content  Item_Visibility  \\\n",
       "4            FDY38          NaN          Regular         0.118599   \n",
       "7            FDC48          NaN          Low Fat         0.015782   \n",
       "12           NCC54          NaN          Low Fat         0.171079   \n",
       "18           NCM42          NaN          Low Fat         0.028184   \n",
       "23           NCL19          NaN          Low Fat         0.027447   \n",
       "30           NCR42          NaN          Low Fat         0.067377   \n",
       "33           FDU31          NaN          Regular         0.024870   \n",
       "35           FDR03          NaN          Regular         0.008694   \n",
       "36           FDS49          NaN          Low Fat         0.078961   \n",
       "39           NCD43          NaN          Low Fat         0.015942   \n",
       "54           FDV44          NaN          Regular         0.039651   \n",
       "58           FDL58          NaN          Regular         0.129825   \n",
       "62           NCY42          NaN          Low Fat         0.015089   \n",
       "65           FDB35          NaN          Regular         0.064306   \n",
       "71           FDC37          NaN          Low Fat         0.032714   \n",
       "76           FDV21          NaN          Low Fat         0.299544   \n",
       "78           DRP47          NaN          Low Fat         0.246178   \n",
       "\n",
       "                Item_Type  Item_MRP  \n",
       "4                   Dairy  234.2300  \n",
       "7            Baking Goods   81.0592  \n",
       "12     Health and Hygiene  240.4196  \n",
       "18              Household  109.6912  \n",
       "23                 Others  142.3470  \n",
       "30              Household   32.0900  \n",
       "33  Fruits and Vegetables  217.7508  \n",
       "35                   Meat  205.0980  \n",
       "36                 Canned   80.3644  \n",
       "39              Household  103.3964  \n",
       "54  Fruits and Vegetables  188.7188  \n",
       "58            Snack Foods  263.2568  \n",
       "62              Household  141.3470  \n",
       "65          Starchy Foods   90.3804  \n",
       "71           Baking Goods  108.1938  \n",
       "76            Snack Foods  124.8704  \n",
       "78            Hard Drinks  252.4382  "
      ]
     },
     "execution_count": 6,
     "metadata": {},
     "output_type": "execute_result"
    }
   ],
   "source": [
    "original_data[original_data[\"Item_Weight\"].isnull()]"
   ]
  },
  {
   "cell_type": "markdown",
   "id": "eceb0d0c-bec2-4980-b84c-9c5119b59f64",
   "metadata": {},
   "source": [
    "#### 评估重复数据"
   ]
  },
  {
   "cell_type": "code",
   "execution_count": 7,
   "id": "6746508d-385a-4903-a1c1-2401e37be03c",
   "metadata": {},
   "outputs": [
    {
     "data": {
      "text/html": [
       "<div>\n",
       "<style scoped>\n",
       "    .dataframe tbody tr th:only-of-type {\n",
       "        vertical-align: middle;\n",
       "    }\n",
       "\n",
       "    .dataframe tbody tr th {\n",
       "        vertical-align: top;\n",
       "    }\n",
       "\n",
       "    .dataframe thead th {\n",
       "        text-align: right;\n",
       "    }\n",
       "</style>\n",
       "<table border=\"1\" class=\"dataframe\">\n",
       "  <thead>\n",
       "    <tr style=\"text-align: right;\">\n",
       "      <th></th>\n",
       "      <th>Item_Identifier</th>\n",
       "      <th>Item_Weight</th>\n",
       "      <th>Item_Fat_Content</th>\n",
       "      <th>Item_Visibility</th>\n",
       "      <th>Item_Type</th>\n",
       "      <th>Item_MRP</th>\n",
       "    </tr>\n",
       "  </thead>\n",
       "  <tbody>\n",
       "    <tr>\n",
       "      <th>43</th>\n",
       "      <td>NCL19</td>\n",
       "      <td>15.35</td>\n",
       "      <td>Low Fat</td>\n",
       "      <td>0.01574</td>\n",
       "      <td>Others</td>\n",
       "      <td>144.847</td>\n",
       "    </tr>\n",
       "  </tbody>\n",
       "</table>\n",
       "</div>"
      ],
      "text/plain": [
       "   Item_Identifier  Item_Weight Item_Fat_Content  Item_Visibility Item_Type  \\\n",
       "43           NCL19        15.35          Low Fat          0.01574    Others   \n",
       "\n",
       "    Item_MRP  \n",
       "43   144.847  "
      ]
     },
     "execution_count": 7,
     "metadata": {},
     "output_type": "execute_result"
    }
   ],
   "source": [
    "original_data[original_data.duplicated(subset=[\"Item_Identifier\"])]"
   ]
  },
  {
   "cell_type": "markdown",
   "id": "0894a2f0-a2b0-4bcc-b93e-dd6bebfa86a3",
   "metadata": {},
   "source": [
    "#### 评估不一致数据"
   ]
  },
  {
   "cell_type": "code",
   "execution_count": 8,
   "id": "c40167a6-4bcd-4645-8244-6242851eda02",
   "metadata": {},
   "outputs": [
    {
     "data": {
      "text/plain": [
       "Item_Type\n",
       "Household                14\n",
       "Fruits and Vegetables    11\n",
       "Snack Foods              10\n",
       "Dairy                     8\n",
       "Baking Goods              7\n",
       "Frozen Foods              5\n",
       "Others                    4\n",
       "Breads                    3\n",
       "Hard Drinks               3\n",
       "Soft Drinks               3\n",
       "Meat                      3\n",
       "Canned                    3\n",
       "Starchy Foods             3\n",
       "Health and Hygiene        2\n",
       "Seafood                   1\n",
       "Name: count, dtype: int64"
      ]
     },
     "execution_count": 8,
     "metadata": {},
     "output_type": "execute_result"
    }
   ],
   "source": [
    "original_data[\"Item_Type\"].value_counts()"
   ]
  },
  {
   "cell_type": "markdown",
   "id": "1f4f9511-5462-4e58-933f-744cb15610bb",
   "metadata": {},
   "source": [
    "#### 评估无效和错误数据"
   ]
  },
  {
   "cell_type": "code",
   "execution_count": 9,
   "id": "256129e3-96d3-45e1-a107-8242d52b9386",
   "metadata": {},
   "outputs": [
    {
     "data": {
      "text/html": [
       "<div>\n",
       "<style scoped>\n",
       "    .dataframe tbody tr th:only-of-type {\n",
       "        vertical-align: middle;\n",
       "    }\n",
       "\n",
       "    .dataframe tbody tr th {\n",
       "        vertical-align: top;\n",
       "    }\n",
       "\n",
       "    .dataframe thead th {\n",
       "        text-align: right;\n",
       "    }\n",
       "</style>\n",
       "<table border=\"1\" class=\"dataframe\">\n",
       "  <thead>\n",
       "    <tr style=\"text-align: right;\">\n",
       "      <th></th>\n",
       "      <th>Item_Weight</th>\n",
       "      <th>Item_Visibility</th>\n",
       "      <th>Item_MRP</th>\n",
       "    </tr>\n",
       "  </thead>\n",
       "  <tbody>\n",
       "    <tr>\n",
       "      <th>count</th>\n",
       "      <td>63.000000</td>\n",
       "      <td>80.000000</td>\n",
       "      <td>80.000000</td>\n",
       "    </tr>\n",
       "    <tr>\n",
       "      <th>mean</th>\n",
       "      <td>12.739921</td>\n",
       "      <td>0.073182</td>\n",
       "      <td>151.243310</td>\n",
       "    </tr>\n",
       "    <tr>\n",
       "      <th>std</th>\n",
       "      <td>4.999262</td>\n",
       "      <td>0.060483</td>\n",
       "      <td>61.690894</td>\n",
       "    </tr>\n",
       "    <tr>\n",
       "      <th>min</th>\n",
       "      <td>4.785000</td>\n",
       "      <td>0.000000</td>\n",
       "      <td>32.090000</td>\n",
       "    </tr>\n",
       "    <tr>\n",
       "      <th>25%</th>\n",
       "      <td>7.832500</td>\n",
       "      <td>0.029837</td>\n",
       "      <td>108.110900</td>\n",
       "    </tr>\n",
       "    <tr>\n",
       "      <th>50%</th>\n",
       "      <td>13.000000</td>\n",
       "      <td>0.061691</td>\n",
       "      <td>150.137900</td>\n",
       "    </tr>\n",
       "    <tr>\n",
       "      <th>75%</th>\n",
       "      <td>17.000000</td>\n",
       "      <td>0.097592</td>\n",
       "      <td>192.592500</td>\n",
       "    </tr>\n",
       "    <tr>\n",
       "      <th>max</th>\n",
       "      <td>21.350000</td>\n",
       "      <td>0.299544</td>\n",
       "      <td>263.256800</td>\n",
       "    </tr>\n",
       "  </tbody>\n",
       "</table>\n",
       "</div>"
      ],
      "text/plain": [
       "       Item_Weight  Item_Visibility    Item_MRP\n",
       "count    63.000000        80.000000   80.000000\n",
       "mean     12.739921         0.073182  151.243310\n",
       "std       4.999262         0.060483   61.690894\n",
       "min       4.785000         0.000000   32.090000\n",
       "25%       7.832500         0.029837  108.110900\n",
       "50%      13.000000         0.061691  150.137900\n",
       "75%      17.000000         0.097592  192.592500\n",
       "max      21.350000         0.299544  263.256800"
      ]
     },
     "execution_count": 9,
     "metadata": {},
     "output_type": "execute_result"
    }
   ],
   "source": [
    "original_data.describe()"
   ]
  },
  {
   "cell_type": "code",
   "execution_count": 10,
   "id": "415e4798-e704-46e9-b747-b34d66b20de3",
   "metadata": {},
   "outputs": [
    {
     "data": {
      "text/plain": [
       "30     32.0900\n",
       "57     38.3822\n",
       "32     42.4112\n",
       "26     47.6034\n",
       "22     47.7402\n",
       "        ...   \n",
       "48    248.1460\n",
       "78    252.4382\n",
       "74    256.2646\n",
       "67    262.5594\n",
       "58    263.2568\n",
       "Name: Item_MRP, Length: 80, dtype: float64"
      ]
     },
     "execution_count": 10,
     "metadata": {},
     "output_type": "execute_result"
    }
   ],
   "source": [
    "original_data[\"Item_MRP\"].sort_values()"
   ]
  },
  {
   "cell_type": "markdown",
   "id": "0237121e-1d81-45bb-a6dc-23cb9fcc9a8a",
   "metadata": {},
   "source": [
    "## 清理数据"
   ]
  },
  {
   "cell_type": "markdown",
   "id": "a407dc07-351c-44f2-82f9-88cd191d2326",
   "metadata": {},
   "source": [
    "### 下面写通过上面数据评估，应该对数据进行清理的具体步骤"
   ]
  },
  {
   "cell_type": "markdown",
   "id": "f55e823a-3b5a-447d-b67f-a073ab09a30c",
   "metadata": {},
   "source": [
    "#### copy方法复制给新变量"
   ]
  },
  {
   "cell_type": "code",
   "execution_count": 11,
   "id": "fd065d22-9e71-4327-a62b-0757f70a272c",
   "metadata": {},
   "outputs": [],
   "source": [
    "cleaned_data=original_data.copy()"
   ]
  },
  {
   "cell_type": "markdown",
   "id": "3bf87ccb-1277-4d67-a38f-6526c32276cc",
   "metadata": {},
   "source": [
    "##### 有些数据集中，时间数据的类型是str，应该将其转换为datatime，下面举个例子"
   ]
  },
  {
   "cell_type": "code",
   "execution_count": 12,
   "id": "cc3bc994-b307-4b94-a183-9c6cef05d885",
   "metadata": {},
   "outputs": [
    {
     "data": {
      "text/plain": [
       "0    1970-01-01 00:00:00.000000020\n",
       "1    1970-01-01 00:00:00.000000008\n",
       "2    1970-01-01 00:00:00.000000014\n",
       "3    1970-01-01 00:00:00.000000007\n",
       "4                              NaT\n",
       "                  ...             \n",
       "75   1970-01-01 00:00:00.000000013\n",
       "76                             NaT\n",
       "77   1970-01-01 00:00:00.000000013\n",
       "78                             NaT\n",
       "79   1970-01-01 00:00:00.000000016\n",
       "Name: Item_Weight, Length: 80, dtype: datetime64[ns]"
      ]
     },
     "execution_count": 12,
     "metadata": {},
     "output_type": "execute_result"
    }
   ],
   "source": [
    "cleaned_data[\"Item_Weight\"] = pd.to_datetime(cleaned_data[\"Item_Weight\"])\n",
    "cleaned_data[\"Item_Weight\"]"
   ]
  },
  {
   "cell_type": "markdown",
   "id": "62de734e-d45e-44a9-9181-6358c94169b5",
   "metadata": {},
   "source": [
    "##### 对于ID这种如果是浮点数需要转换成str，直接用astype（）方法"
   ]
  },
  {
   "cell_type": "code",
   "execution_count": 13,
   "id": "5a978c9d-0d82-4db8-8551-5beb09141805",
   "metadata": {},
   "outputs": [
    {
     "data": {
      "text/plain": [
       "0     107.8622\n",
       "1      87.3198\n",
       "2     241.7538\n",
       "3      155.034\n",
       "4       234.23\n",
       "        ...   \n",
       "75    173.7054\n",
       "76    124.8704\n",
       "77    148.6392\n",
       "78    252.4382\n",
       "79     145.176\n",
       "Name: Item_MRP, Length: 80, dtype: object"
      ]
     },
     "execution_count": 13,
     "metadata": {},
     "output_type": "execute_result"
    }
   ],
   "source": [
    "cleaned_data[\"Item_MRP\"] = cleaned_data[\"Item_MRP\"].astype(str)\n",
    "cleaned_data[\"Item_MRP\"]"
   ]
  },
  {
   "cell_type": "markdown",
   "id": "5c2b5565-3b9b-47ea-a23d-0bec3dc34725",
   "metadata": {},
   "source": [
    "##### series的str有一个slice方法，可以保留指定字符串范围"
   ]
  },
  {
   "cell_type": "code",
   "execution_count": 14,
   "id": "3e20062e-cd1b-4de2-a8df-853c7f8444be",
   "metadata": {},
   "outputs": [
    {
     "data": {
      "text/plain": [
       "0     107\n",
       "1     87.\n",
       "2     241\n",
       "3     155\n",
       "4     234\n",
       "     ... \n",
       "75    173\n",
       "76    124\n",
       "77    148\n",
       "78    252\n",
       "79    145\n",
       "Name: Item_MRP, Length: 80, dtype: object"
      ]
     },
     "execution_count": 14,
     "metadata": {},
     "output_type": "execute_result"
    }
   ],
   "source": [
    "cleaned_data[\"Item_MRP\"].str.slice(0,3)"
   ]
  },
  {
   "cell_type": "markdown",
   "id": "4674bd7b-a0a4-4fa4-8c93-dc91a8bc953a",
   "metadata": {},
   "source": [
    "#### 删除空缺数据"
   ]
  },
  {
   "cell_type": "code",
   "execution_count": 20,
   "id": "c52f5509-9ee4-4752-8874-bddc73941855",
   "metadata": {},
   "outputs": [
    {
     "data": {
      "text/plain": [
       "0"
      ]
     },
     "execution_count": 20,
     "metadata": {},
     "output_type": "execute_result"
    }
   ],
   "source": [
    "cleaned_data = cleaned_data.dropna(subset=[\"Item_Weight\"])\n",
    "cleaned_data[\"Item_Weight\"].isnull().sum()"
   ]
  },
  {
   "cell_type": "markdown",
   "id": "197ab226-2c38-4794-8e88-3061cc9170dd",
   "metadata": {},
   "source": [
    "#### 处理不一致数据：不同单词指代同一事物的现象\n",
    "##### 用replace的方法  本数据集无不一致数据 将 Canned 换为Meat"
   ]
  },
  {
   "cell_type": "code",
   "execution_count": 27,
   "id": "9e25a08a-73f3-421c-86ff-7dced6018905",
   "metadata": {},
   "outputs": [
    {
     "data": {
      "text/plain": [
       "Item_Type\n",
       "Household                10\n",
       "Fruits and Vegetables     9\n",
       "Snack Foods               8\n",
       "Dairy                     7\n",
       "Baking Goods              5\n",
       "Frozen Foods              5\n",
       "Meat                      4\n",
       "Others                    3\n",
       "Breads                    3\n",
       "Soft Drinks               3\n",
       "Hard Drinks               2\n",
       "Starchy Foods             2\n",
       "Seafood                   1\n",
       "Health and Hygiene        1\n",
       "Name: count, dtype: int64"
      ]
     },
     "execution_count": 27,
     "metadata": {},
     "output_type": "execute_result"
    }
   ],
   "source": [
    "cleaned_data[\"Item_Type\"] = cleaned_data[\"Item_Type\"].replace({\"Canned\" : \"Meat\"})\n",
    "cleaned_data[\"Item_Type\"].value_counts()"
   ]
  },
  {
   "cell_type": "code",
   "execution_count": 29,
   "id": "0c9e5f7f-d711-40dd-9f12-56c09435a34e",
   "metadata": {},
   "outputs": [
    {
     "data": {
      "text/plain": [
       "0"
      ]
     },
     "execution_count": 29,
     "metadata": {},
     "output_type": "execute_result"
    }
   ],
   "source": [
    "len(cleaned_data[cleaned_data[\"Item_Type\"] == \"Canned\"])"
   ]
  },
  {
   "cell_type": "markdown",
   "id": "13641ce6-4f8c-4f43-8058-af8ccf06c3c5",
   "metadata": {},
   "source": [
    "#### 删除错误数据：比如身高为－的，这类就用筛选条件筛选出来赋值给原来的dataframe，变相删除\n",
    "##### eg. claned_data = cleaned_data[cleaned_data[\"身高\"] >= 0]"
   ]
  },
  {
   "cell_type": "markdown",
   "id": "c5a67df7-f508-4483-a042-4d4b11f1977d",
   "metadata": {},
   "source": [
    "#### 删除重复数据\n",
    "##### eg.  cleaned_data.drop_duplicates(subset = [\"列名\"])"
   ]
  },
  {
   "cell_type": "markdown",
   "id": "75528bfe-d1e3-48e0-95cc-9e41a30bff0f",
   "metadata": {},
   "source": [
    "## 保存清理后的数据\n",
    "#### cleaned_data.to_csv(\"新文件名.csv\" , index = False)\n",
    "#### 本数据集中索引无实际意义，所以index=False，保存后，在同一文件夹下会创建一个新的csv文件"
   ]
  }
 ],
 "metadata": {
  "kernelspec": {
   "display_name": "tensorflow",
   "language": "python",
   "name": "tensorflow"
  },
  "language_info": {
   "codemirror_mode": {
    "name": "ipython",
    "version": 3
   },
   "file_extension": ".py",
   "mimetype": "text/x-python",
   "name": "python",
   "nbconvert_exporter": "python",
   "pygments_lexer": "ipython3",
   "version": "3.12.4"
  }
 },
 "nbformat": 4,
 "nbformat_minor": 5
}
